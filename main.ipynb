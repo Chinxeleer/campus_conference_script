{
 "cells": [
  {
   "cell_type": "code",
   "execution_count": 1,
   "metadata": {},
   "outputs": [],
   "source": [
    "import pandas as pd"
   ]
  },
  {
   "cell_type": "markdown",
   "metadata": {},
   "source": [
    "## Importing the CSVs\n"
   ]
  },
  {
   "cell_type": "code",
   "execution_count": 2,
   "metadata": {},
   "outputs": [],
   "source": [
    "registration = pd.read_csv(\"./data/enc.csv\")\n",
    "payments = pd.read_csv(\"./data/pop.csv\")"
   ]
  },
  {
   "cell_type": "markdown",
   "metadata": {},
   "source": [
    "## Cleaning the data\n"
   ]
  },
  {
   "cell_type": "code",
   "execution_count": 3,
   "metadata": {},
   "outputs": [],
   "source": [
    "registration.loc[registration[\"Are you subscribed to ENC Wits?\"] == \"Yes\", [\n",
    "    \"Name and Surname\", \"Please select one of the payment options below\"]]\n",
    "registration['Name and Surname'] = registration['Name and Surname'].str.strip()\n",
    "registration['Name and Surname'] = registration['Name and Surname'].str.title()\n",
    "registration = registration.drop_duplicates(subset=\"Name and Surname\") # dropping duplicates\n",
    "payments['Name + Surname'] = payments['Name + Surname'].str.strip()\n",
    "payments['Name + Surname'] = payments['Name + Surname'].str.title()\n",
    "\n",
    "# registration[registration.duplicated(subset=\"Name and Surname\")] // duplicated data"
   ]
  },
  {
   "cell_type": "markdown",
   "metadata": {},
   "source": [
    "## Merge of proof of payment and the registration to show payment and payment plan progress\n"
   ]
  },
  {
   "cell_type": "code",
   "execution_count": 4,
   "metadata": {},
   "outputs": [],
   "source": [
    "payment_process = pd.merge(\n",
    "    registration, payments, left_on='Name and Surname', right_on='Name + Surname', how=\"left\")\n",
    "\n",
    "inner_joint_data = pd.merge(registration, payments, left_on='Name and Surname',\n",
    "               right_on='Name + Surname', how=\"inner\") # inner join that shows only the common data between registration and payments.\n"
   ]
  },
  {
   "cell_type": "markdown",
   "metadata": {},
   "source": [
    "# Cleaning the data\n",
    "\n",
    "- Clean the amount paid so that it becomes 0 if it return Nan and turns every amount into an integer\n",
    "- removing concatenated values in subscribed or not field\n"
   ]
  },
  {
   "cell_type": "code",
   "execution_count": 5,
   "metadata": {},
   "outputs": [],
   "source": [
    "def clean_amount(x):\n",
    "    if pd.isna(x):\n",
    "        return 0  # or handle NaN values as needed\n",
    "    return int(float(str(x).replace('R', '')))\n",
    "\n",
    "\n",
    "\n",
    "payment_process[\"How much did you pay?\"] = payment_process[\"How much did you pay?\"].apply(\n",
    "    clean_amount)"
   ]
  },
  {
   "cell_type": "markdown",
   "metadata": {},
   "source": [
    "- Clean the data so that the amount is only in numeric not alphanumeric\n"
   ]
  },
  {
   "cell_type": "markdown",
   "metadata": {},
   "source": [
    "## Merge Duplicate rows\n"
   ]
  },
  {
   "cell_type": "code",
   "execution_count": 6,
   "metadata": {},
   "outputs": [],
   "source": [
    "\n",
    "grouped_payments = payment_process.groupby(\n",
    "    \"Name and Surname\", as_index=False).sum()\n",
    "\n",
    "grouped_payments[\"Are you subscribed to ENC Wits?\"] = grouped_payments[\"Are you subscribed to ENC Wits?\"].str.strip()\n",
    "grouped_payments[\"Are you subscribed to ENC Wits?\"] = grouped_payments[\"Are you subscribed to ENC Wits?\"].replace({\n",
    "                                                                                                                 \"YesYes\": \"Yes\", \"NoNo\": \"No\"})\n",
    "# grouped_payments.loc[50:100]"
   ]
  },
  {
   "cell_type": "markdown",
   "metadata": {},
   "source": [
    "## Display amount and **Name + Surname** of those who are subscribed\n"
   ]
  },
  {
   "cell_type": "code",
   "execution_count": 7,
   "metadata": {},
   "outputs": [
    {
     "data": {
      "text/html": [
       "<div>\n",
       "<style scoped>\n",
       "    .dataframe tbody tr th:only-of-type {\n",
       "        vertical-align: middle;\n",
       "    }\n",
       "\n",
       "    .dataframe tbody tr th {\n",
       "        vertical-align: top;\n",
       "    }\n",
       "\n",
       "    .dataframe thead th {\n",
       "        text-align: right;\n",
       "    }\n",
       "</style>\n",
       "<table border=\"1\" class=\"dataframe\">\n",
       "  <thead>\n",
       "    <tr style=\"text-align: right;\">\n",
       "      <th></th>\n",
       "      <th>Name and Surname</th>\n",
       "      <th>How much did you pay?</th>\n",
       "    </tr>\n",
       "  </thead>\n",
       "  <tbody>\n",
       "    <tr>\n",
       "      <th>1</th>\n",
       "      <td>Abongiwe Kentane</td>\n",
       "      <td>0</td>\n",
       "    </tr>\n",
       "    <tr>\n",
       "      <th>2</th>\n",
       "      <td>Anele Sontenze</td>\n",
       "      <td>0</td>\n",
       "    </tr>\n",
       "    <tr>\n",
       "      <th>5</th>\n",
       "      <td>Aphiwe Vezi</td>\n",
       "      <td>0</td>\n",
       "    </tr>\n",
       "    <tr>\n",
       "      <th>6</th>\n",
       "      <td>Asithandile Madikane</td>\n",
       "      <td>0</td>\n",
       "    </tr>\n",
       "    <tr>\n",
       "      <th>7</th>\n",
       "      <td>Ayanda Chiliza</td>\n",
       "      <td>0</td>\n",
       "    </tr>\n",
       "    <tr>\n",
       "      <th>...</th>\n",
       "      <td>...</td>\n",
       "      <td>...</td>\n",
       "    </tr>\n",
       "    <tr>\n",
       "      <th>112</th>\n",
       "      <td>Tlhokomelo Mathaba</td>\n",
       "      <td>0</td>\n",
       "    </tr>\n",
       "    <tr>\n",
       "      <th>113</th>\n",
       "      <td>Tshegofatso Setsepu</td>\n",
       "      <td>225</td>\n",
       "    </tr>\n",
       "    <tr>\n",
       "      <th>116</th>\n",
       "      <td>Tumi Motala</td>\n",
       "      <td>0</td>\n",
       "    </tr>\n",
       "    <tr>\n",
       "      <th>118</th>\n",
       "      <td>Zanele Lusenga</td>\n",
       "      <td>0</td>\n",
       "    </tr>\n",
       "    <tr>\n",
       "      <th>120</th>\n",
       "      <td>Zinhle Maseko</td>\n",
       "      <td>0</td>\n",
       "    </tr>\n",
       "  </tbody>\n",
       "</table>\n",
       "<p>69 rows × 2 columns</p>\n",
       "</div>"
      ],
      "text/plain": [
       "         Name and Surname  How much did you pay?\n",
       "1        Abongiwe Kentane                      0\n",
       "2          Anele Sontenze                      0\n",
       "5             Aphiwe Vezi                      0\n",
       "6    Asithandile Madikane                      0\n",
       "7          Ayanda Chiliza                      0\n",
       "..                    ...                    ...\n",
       "112    Tlhokomelo Mathaba                      0\n",
       "113   Tshegofatso Setsepu                    225\n",
       "116           Tumi Motala                      0\n",
       "118        Zanele Lusenga                      0\n",
       "120         Zinhle Maseko                      0\n",
       "\n",
       "[69 rows x 2 columns]"
      ]
     },
     "execution_count": 7,
     "metadata": {},
     "output_type": "execute_result"
    }
   ],
   "source": [
    "subscribed = grouped_payments.loc[grouped_payments[\"Are you subscribed to ENC Wits?\"] == \"Yes\", [\n",
    "    \"Name and Surname\", \"How much did you pay?\"]]\n",
    "total_amount_subscribed = 225*(len(subscribed)-3)+3*180\n",
    "# total_amount_subscribed\n",
    "\n",
    "subscribed"
   ]
  },
  {
   "cell_type": "markdown",
   "metadata": {},
   "source": [
    "## Display the **Name + Surname** of those that are not subscribed\n"
   ]
  },
  {
   "cell_type": "code",
   "execution_count": 8,
   "metadata": {},
   "outputs": [],
   "source": [
    "\n",
    "not_subscribed = grouped_payments.loc[grouped_payments[\"Are you subscribed to ENC Wits?\"] == \"No\", [\n",
    "    \"Name and Surname\", \"How much did you pay?\"]]\n",
    "total_amount_unsubscribed = 300*len(not_subscribed)\n",
    "# total_amount_unsubscribed"
   ]
  },
  {
   "cell_type": "markdown",
   "metadata": {},
   "source": [
    "# Adding columns of the money left that needs to be paid\n"
   ]
  },
  {
   "cell_type": "markdown",
   "metadata": {},
   "source": [
    "### Subscribed and paid before June\n"
   ]
  },
  {
   "cell_type": "code",
   "execution_count": 9,
   "metadata": {},
   "outputs": [],
   "source": [
    "\n",
    "grouped_payments['Timestamp_y'] = pd.to_datetime(\n",
    "    grouped_payments['Timestamp_y'], format='%d/%m/%Y %H:%M:%S', errors='coerce')"
   ]
  },
  {
   "cell_type": "markdown",
   "metadata": {},
   "source": [
    "### Total amount paid currently\n"
   ]
  },
  {
   "cell_type": "code",
   "execution_count": 10,
   "metadata": {},
   "outputs": [
    {
     "name": "stdout",
     "output_type": "stream",
     "text": [
      "6060\n"
     ]
    },
    {
     "data": {
      "text/html": [
       "<div>\n",
       "<style scoped>\n",
       "    .dataframe tbody tr th:only-of-type {\n",
       "        vertical-align: middle;\n",
       "    }\n",
       "\n",
       "    .dataframe tbody tr th {\n",
       "        vertical-align: top;\n",
       "    }\n",
       "\n",
       "    .dataframe thead th {\n",
       "        text-align: right;\n",
       "    }\n",
       "</style>\n",
       "<table border=\"1\" class=\"dataframe\">\n",
       "  <thead>\n",
       "    <tr style=\"text-align: right;\">\n",
       "      <th></th>\n",
       "      <th>Name and Surname</th>\n",
       "      <th>How much did you pay?</th>\n",
       "    </tr>\n",
       "  </thead>\n",
       "  <tbody>\n",
       "    <tr>\n",
       "      <th>11</th>\n",
       "      <td>Blessing Kodze</td>\n",
       "      <td>255</td>\n",
       "    </tr>\n",
       "    <tr>\n",
       "      <th>16</th>\n",
       "      <td>Davina Mabena</td>\n",
       "      <td>225</td>\n",
       "    </tr>\n",
       "    <tr>\n",
       "      <th>17</th>\n",
       "      <td>Dineo Lamola</td>\n",
       "      <td>100</td>\n",
       "    </tr>\n",
       "    <tr>\n",
       "      <th>21</th>\n",
       "      <td>Fezile Legodi</td>\n",
       "      <td>75</td>\n",
       "    </tr>\n",
       "    <tr>\n",
       "      <th>22</th>\n",
       "      <td>Hans Dladla</td>\n",
       "      <td>300</td>\n",
       "    </tr>\n",
       "    <tr>\n",
       "      <th>28</th>\n",
       "      <td>Keabetsoe Molefe</td>\n",
       "      <td>225</td>\n",
       "    </tr>\n",
       "    <tr>\n",
       "      <th>42</th>\n",
       "      <td>Lindokuhle Zama</td>\n",
       "      <td>100</td>\n",
       "    </tr>\n",
       "    <tr>\n",
       "      <th>44</th>\n",
       "      <td>Liyema Ndwandwa</td>\n",
       "      <td>75</td>\n",
       "    </tr>\n",
       "    <tr>\n",
       "      <th>49</th>\n",
       "      <td>Luyanda Mabena</td>\n",
       "      <td>75</td>\n",
       "    </tr>\n",
       "    <tr>\n",
       "      <th>50</th>\n",
       "      <td>Magdaline Maremeni</td>\n",
       "      <td>300</td>\n",
       "    </tr>\n",
       "    <tr>\n",
       "      <th>58</th>\n",
       "      <td>Mathapelo Motsau</td>\n",
       "      <td>150</td>\n",
       "    </tr>\n",
       "    <tr>\n",
       "      <th>60</th>\n",
       "      <td>Mengeti Dlamini</td>\n",
       "      <td>225</td>\n",
       "    </tr>\n",
       "    <tr>\n",
       "      <th>65</th>\n",
       "      <td>Moyisi Moya</td>\n",
       "      <td>300</td>\n",
       "    </tr>\n",
       "    <tr>\n",
       "      <th>75</th>\n",
       "      <td>Nobuhle Khumalo</td>\n",
       "      <td>225</td>\n",
       "    </tr>\n",
       "    <tr>\n",
       "      <th>76</th>\n",
       "      <td>Nokuthula Mokoena</td>\n",
       "      <td>225</td>\n",
       "    </tr>\n",
       "    <tr>\n",
       "      <th>79</th>\n",
       "      <td>Nomonde Makashane</td>\n",
       "      <td>300</td>\n",
       "    </tr>\n",
       "    <tr>\n",
       "      <th>81</th>\n",
       "      <td>Nsovo Sondlani</td>\n",
       "      <td>225</td>\n",
       "    </tr>\n",
       "    <tr>\n",
       "      <th>82</th>\n",
       "      <td>Ntombi Mphahlele</td>\n",
       "      <td>300</td>\n",
       "    </tr>\n",
       "    <tr>\n",
       "      <th>94</th>\n",
       "      <td>Ramotemane Mawasha</td>\n",
       "      <td>300</td>\n",
       "    </tr>\n",
       "    <tr>\n",
       "      <th>97</th>\n",
       "      <td>Romeo Mphephu</td>\n",
       "      <td>200</td>\n",
       "    </tr>\n",
       "    <tr>\n",
       "      <th>99</th>\n",
       "      <td>S'Negugu Madlala</td>\n",
       "      <td>75</td>\n",
       "    </tr>\n",
       "    <tr>\n",
       "      <th>102</th>\n",
       "      <td>Simon Tsoanyane</td>\n",
       "      <td>75</td>\n",
       "    </tr>\n",
       "    <tr>\n",
       "      <th>103</th>\n",
       "      <td>Sinamandla Tsele</td>\n",
       "      <td>300</td>\n",
       "    </tr>\n",
       "    <tr>\n",
       "      <th>105</th>\n",
       "      <td>Sinegugu Siciko</td>\n",
       "      <td>225</td>\n",
       "    </tr>\n",
       "    <tr>\n",
       "      <th>107</th>\n",
       "      <td>Sisonke Socikwa</td>\n",
       "      <td>75</td>\n",
       "    </tr>\n",
       "    <tr>\n",
       "      <th>110</th>\n",
       "      <td>Thelma Gadama</td>\n",
       "      <td>225</td>\n",
       "    </tr>\n",
       "    <tr>\n",
       "      <th>111</th>\n",
       "      <td>Thinasonke Sikhakhane</td>\n",
       "      <td>75</td>\n",
       "    </tr>\n",
       "    <tr>\n",
       "      <th>113</th>\n",
       "      <td>Tshegofatso Setsepu</td>\n",
       "      <td>225</td>\n",
       "    </tr>\n",
       "    <tr>\n",
       "      <th>117</th>\n",
       "      <td>Yinhla Mabasa</td>\n",
       "      <td>300</td>\n",
       "    </tr>\n",
       "  </tbody>\n",
       "</table>\n",
       "</div>"
      ],
      "text/plain": [
       "          Name and Surname  How much did you pay?\n",
       "11          Blessing Kodze                    255\n",
       "16           Davina Mabena                    225\n",
       "17            Dineo Lamola                    100\n",
       "21           Fezile Legodi                     75\n",
       "22             Hans Dladla                    300\n",
       "28        Keabetsoe Molefe                    225\n",
       "42         Lindokuhle Zama                    100\n",
       "44         Liyema Ndwandwa                     75\n",
       "49          Luyanda Mabena                     75\n",
       "50      Magdaline Maremeni                    300\n",
       "58        Mathapelo Motsau                    150\n",
       "60         Mengeti Dlamini                    225\n",
       "65             Moyisi Moya                    300\n",
       "75         Nobuhle Khumalo                    225\n",
       "76       Nokuthula Mokoena                    225\n",
       "79       Nomonde Makashane                    300\n",
       "81          Nsovo Sondlani                    225\n",
       "82        Ntombi Mphahlele                    300\n",
       "94      Ramotemane Mawasha                    300\n",
       "97           Romeo Mphephu                    200\n",
       "99        S'Negugu Madlala                     75\n",
       "102        Simon Tsoanyane                     75\n",
       "103       Sinamandla Tsele                    300\n",
       "105        Sinegugu Siciko                    225\n",
       "107        Sisonke Socikwa                     75\n",
       "110          Thelma Gadama                    225\n",
       "111  Thinasonke Sikhakhane                     75\n",
       "113    Tshegofatso Setsepu                    225\n",
       "117          Yinhla Mabasa                    300"
      ]
     },
     "execution_count": 10,
     "metadata": {},
     "output_type": "execute_result"
    }
   ],
   "source": [
    "total = grouped_payments[\"How much did you pay?\"].sum() + 80+ 225\n",
    "print(total)\n",
    "grouped_payments.loc[grouped_payments[\"How much did you pay?\"] != 0,['Name and Surname', 'How much did you pay?']]"
   ]
  },
  {
   "cell_type": "markdown",
   "metadata": {},
   "source": [
    "## Number of people registered."
   ]
  },
  {
   "cell_type": "code",
   "execution_count": 11,
   "metadata": {},
   "outputs": [
    {
     "data": {
      "text/plain": [
       "121"
      ]
     },
     "execution_count": 11,
     "metadata": {},
     "output_type": "execute_result"
    }
   ],
   "source": [
    "len(grouped_payments)"
   ]
  },
  {
   "cell_type": "markdown",
   "metadata": {},
   "source": [
    "## Expected total amount from sign ups"
   ]
  },
  {
   "cell_type": "code",
   "execution_count": 12,
   "metadata": {},
   "outputs": [
    {
     "name": "stdout",
     "output_type": "stream",
     "text": [
      "30990\n"
     ]
    }
   ],
   "source": [
    "expected_amount_from_signups = total_amount_subscribed + total_amount_unsubscribed\n",
    "print(expected_amount_from_signups)"
   ]
  },
  {
   "cell_type": "markdown",
   "metadata": {},
   "source": [
    "## Number of people who have completed their payments."
   ]
  },
  {
   "cell_type": "code",
   "execution_count": 13,
   "metadata": {},
   "outputs": [
    {
     "data": {
      "text/plain": [
       "18"
      ]
     },
     "execution_count": 13,
     "metadata": {},
     "output_type": "execute_result"
    }
   ],
   "source": [
    "t1=len(subscribed.loc[subscribed[\"How much did you pay?\"]==225,[\"Name and Surname\", \"How much did you pay?\"]])\n",
    "t2 =len(not_subscribed.loc[not_subscribed[\"How much did you pay?\"]==300,[\"Name and Surname\", \"How much did you pay?\"]])\n",
    "t1+t2+1"
   ]
  },
  {
   "cell_type": "markdown",
   "metadata": {},
   "source": [
    "## Percentage of the money that we have collected so far"
   ]
  },
  {
   "cell_type": "code",
   "execution_count": 14,
   "metadata": {},
   "outputs": [
    {
     "name": "stdout",
     "output_type": "stream",
     "text": [
      "19.554695062923525\n"
     ]
    }
   ],
   "source": [
    "percentage_completed=(total/expected_amount_from_signups)*100\n",
    "print(percentage_completed)"
   ]
  },
  {
   "cell_type": "markdown",
   "metadata": {},
   "source": [
    "## List of unsubscribed members and haven't finished paying."
   ]
  },
  {
   "cell_type": "markdown",
   "metadata": {},
   "source": [
    "## List of the subscribed members and money they still need to pay\n"
   ]
  },
  {
   "cell_type": "markdown",
   "metadata": {},
   "source": [
    "## List of unsubscribed members and the money they still need to pay"
   ]
  },
  {
   "cell_type": "markdown",
   "metadata": {},
   "source": [
    "## Number of people that have fully paid their amounts."
   ]
  },
  {
   "cell_type": "markdown",
   "metadata": {},
   "source": []
  },
  {
   "cell_type": "markdown",
   "metadata": {},
   "source": [
    "# People not registered on the signups\n",
    "\n",
    "1. Liyema Ndwandwa\n",
    "2. Ntombi Mphahlela\n",
    "3. Khanyo Mtongana"
   ]
  },
  {
   "cell_type": "code",
   "execution_count": 24,
   "metadata": {},
   "outputs": [
    {
     "name": "stdout",
     "output_type": "stream",
     "text": [
      "Total number of people who signed up: 121\n",
      "Total amount expected: 30990\n",
      "Payments that we have right now in percentage is : 20%\n"
     ]
    }
   ],
   "source": [
    "print(f\"Total number of people who signed up: {len(grouped_payments)}\")\n",
    "print(f\"Total amount expected: {expected_amount_from_signups}\")\n",
    "print(f\"Payments that we have right now in percentage is : {percentage_completed:.0f}%\")\n"
   ]
  },
  {
   "cell_type": "markdown",
   "metadata": {},
   "source": [
    "- Request access to the pop pdfs to check for duplicate payements\n",
    "- We requested payment screenshots from Ps Neo and noticed there are people who paid but aren't signed up."
   ]
  }
 ],
 "metadata": {
  "kernelspec": {
   "display_name": "campus_conference-kUvNl2p3",
   "language": "python",
   "name": "python3"
  },
  "language_info": {
   "codemirror_mode": {
    "name": "ipython",
    "version": 3
   },
   "file_extension": ".py",
   "mimetype": "text/x-python",
   "name": "python",
   "nbconvert_exporter": "python",
   "pygments_lexer": "ipython3",
   "version": "3.12.4"
  }
 },
 "nbformat": 4,
 "nbformat_minor": 2
}
